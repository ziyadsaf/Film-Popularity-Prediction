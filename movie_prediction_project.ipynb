{
 "cells": [
  {
   "cell_type": "code",
   "execution_count": 5,
   "id": "d1d721da",
   "metadata": {},
   "outputs": [
    {
     "name": "stdout",
     "output_type": "stream",
     "text": [
      "Collecting kaggle\n",
      "  Using cached kaggle-1.7.4.5-py3-none-any.whl.metadata (16 kB)\n",
      "Collecting bleach (from kaggle)\n",
      "  Using cached bleach-6.2.0-py3-none-any.whl.metadata (30 kB)\n",
      "Collecting certifi>=14.05.14 (from kaggle)\n",
      "  Using cached certifi-2025.4.26-py3-none-any.whl.metadata (2.5 kB)\n",
      "Collecting charset-normalizer (from kaggle)\n",
      "  Using cached charset_normalizer-3.4.2-cp312-cp312-win_amd64.whl.metadata (36 kB)\n",
      "Collecting idna (from kaggle)\n",
      "  Using cached idna-3.10-py3-none-any.whl.metadata (10 kB)\n",
      "Collecting protobuf (from kaggle)\n",
      "  Using cached protobuf-6.31.0-cp310-abi3-win_amd64.whl.metadata (593 bytes)\n",
      "Requirement already satisfied: python-dateutil>=2.5.3 in c:\\movie project\\.venv\\lib\\site-packages (from kaggle) (2.9.0.post0)\n",
      "Collecting python-slugify (from kaggle)\n",
      "  Using cached python_slugify-8.0.4-py2.py3-none-any.whl.metadata (8.5 kB)\n",
      "Collecting requests (from kaggle)\n",
      "  Using cached requests-2.32.3-py3-none-any.whl.metadata (4.6 kB)\n",
      "Collecting setuptools>=21.0.0 (from kaggle)\n",
      "  Using cached setuptools-80.7.1-py3-none-any.whl.metadata (6.6 kB)\n",
      "Requirement already satisfied: six>=1.10 in c:\\movie project\\.venv\\lib\\site-packages (from kaggle) (1.17.0)\n",
      "Requirement already satisfied: text-unidecode in c:\\movie project\\.venv\\lib\\site-packages (from kaggle) (1.3)\n",
      "Requirement already satisfied: tqdm in c:\\movie project\\.venv\\lib\\site-packages (from kaggle) (4.67.1)\n",
      "Requirement already satisfied: urllib3>=1.15.1 in c:\\movie project\\.venv\\lib\\site-packages (from kaggle) (2.4.0)\n",
      "Requirement already satisfied: webencodings in c:\\movie project\\.venv\\lib\\site-packages (from kaggle) (0.5.1)\n",
      "Requirement already satisfied: colorama in c:\\movie project\\.venv\\lib\\site-packages (from tqdm->kaggle) (0.4.6)\n",
      "Using cached kaggle-1.7.4.5-py3-none-any.whl (181 kB)\n",
      "Using cached certifi-2025.4.26-py3-none-any.whl (159 kB)\n",
      "Using cached setuptools-80.7.1-py3-none-any.whl (1.2 MB)\n",
      "Using cached bleach-6.2.0-py3-none-any.whl (163 kB)\n",
      "Using cached charset_normalizer-3.4.2-cp312-cp312-win_amd64.whl (105 kB)\n",
      "Using cached idna-3.10-py3-none-any.whl (70 kB)\n",
      "Using cached protobuf-6.31.0-cp310-abi3-win_amd64.whl (435 kB)\n",
      "Using cached python_slugify-8.0.4-py2.py3-none-any.whl (10 kB)\n",
      "Using cached requests-2.32.3-py3-none-any.whl (64 kB)\n",
      "Installing collected packages: setuptools, python-slugify, protobuf, idna, charset-normalizer, certifi, bleach, requests, kaggle\n",
      "\n",
      "   ---------------------------------------- 0/9 [setuptools]\n",
      "   ---------------------------------------- 0/9 [setuptools]\n",
      "   ---------------------------------------- 0/9 [setuptools]\n",
      "\n",
      "Note: you may need to restart the kernel to use updated packages.\n"
     ]
    },
    {
     "name": "stderr",
     "output_type": "stream",
     "text": [
      "ERROR: Could not install packages due to an OSError: [WinError 32] The process cannot access the file because it is being used by another process: 'c:\\\\Movie Project\\\\.venv\\\\Lib\\\\site-packages\\\\setuptools\\\\_distutils\\\\tests\\\\test_bdist_rpm.py'\n",
      "Check the permissions.\n",
      "\n"
     ]
    }
   ],
   "source": [
    "%pip install kaggle"
   ]
  },
  {
   "cell_type": "code",
   "execution_count": 7,
   "id": "01f57d3b",
   "metadata": {},
   "outputs": [
    {
     "name": "stdout",
     "output_type": "stream",
     "text": [
      "ref                                                             title                                            size  lastUpdated                 downloadCount  voteCount  usabilityRating  \n",
      "--------------------------------------------------------------  -----------------------------------------  ----------  --------------------------  -------------  ---------  ---------------  \n",
      "danielgrijalvas/movies                                          Movie Industry                                 433664  2021-07-23 19:48:26.173000          57266        455  1.0              \n",
      "tmdb/tmdb-movie-metadata                                        TMDB 5000 Movie Dataset                       9317430  2017-09-28 01:09:12.897000         433913       4009  0.8235294        \n",
      "jrobischon/wikipedia-movie-plots                                Wikipedia Movie Plots                        31376869  2018-10-15 19:59:54.650000          28871        505  0.88235295       \n",
      "shivamb/netflix-shows                                           Netflix Movies and TV Shows                   1400865  2021-09-27 04:44:36.770000         576865       9021  1.0              \n",
      "nltkdata/movie-review                                           Movie Reviews                                 7412758  2018-10-19 03:43:40.753000          13021         81  0.7941176        \n",
      "parasharmanas/movie-recommendation-system                       Movie Recommendation System                 172958815  2023-06-08 06:56:05.297000          12150        101  1.0              \n",
      "rounakbanik/the-movies-dataset                                  The Movies Dataset                          238862293  2017-11-10 02:40:38.583000         406078       3745  0.8235294        \n",
      "Cornell-University/movie-dialog-corpus                          Movie Dialog Corpus                           9341033  2017-07-11 21:41:03.350000          10234        165  0.8235294        \n",
      "asaniczka/tmdb-movies-dataset-2023-930k-movies                  Full TMDB Movies Dataset 2024 (1M Movies)   225963598  2025-05-16 10:07:14.820000          23553        563  1.0              \n",
      "xvivancos/star-wars-movie-scripts                               Star Wars Movie Scripts                        161415  2018-05-07 13:57:15.630000           8886        158  1.0              \n",
      "raman77768/movie-classifier                                     Movie Posters                               259590154  2020-05-06 14:29:58.583000           3630         33  0.9117647        \n",
      "lakshmi25npathi/imdb-dataset-of-50k-movie-reviews               IMDB Dataset of 50K Movie Reviews            26962657  2019-03-09 06:32:21.130000         288597       1387  0.8235294        \n",
      "harshitshankhdhar/imdb-dataset-of-top-1000-movies-and-tv-shows  IMDB Movies Dataset                            179262  2021-02-01 07:35:48.597000          88420        625  1.0              \n",
      "guru001/movie-genre-prediction                                  movie-genre-prediction                        7273709  2023-07-22 17:36:36.760000           2097         47  1.0              \n",
      "victorsoeiro/netflix-tv-shows-and-movies                        Netflix TV Shows and Movies                   2362159  2022-07-26 19:50:06.213000          46723        709  1.0              \n",
      "minisam/marvel-movie-dataset                                    Marvel Movie dataset                             9054  2022-03-02 20:03:37.980000           4464         46  0.9411765        \n",
      "tunguz/movietweetings                                           MovieTweetings                               10551975  2021-06-08 17:19:06.763000           5803        171  1.0              \n",
      "rahulvyasm/netflix-movies-and-tv-shows                          Netflix Movies and TV Shows                   1412315  2024-04-10 09:48:38.770000          36870        646  1.0              \n",
      "mitesh58/bollywood-movie-dataset                                Bollywood Movie Dataset                        102444  2018-02-04 10:23:40.913000           9128         82  0.7352941        \n",
      "anandshaw2001/netflix-movies-and-tv-shows                       Netflix Movies and TV Shows                   1400865  2025-01-03 10:33:01.743000          27014        573  1.0              \n"
     ]
    }
   ],
   "source": [
    "!kaggle datasets list -s \"movie\""
   ]
  },
  {
   "cell_type": "code",
   "execution_count": 8,
   "id": "539c2ec5",
   "metadata": {},
   "outputs": [
    {
     "name": "stdout",
     "output_type": "stream",
     "text": [
      "Dataset URL: https://www.kaggle.com/datasets/tmdb/tmdb-movie-metadata\n",
      "License(s): other\n",
      "Downloading tmdb-movie-metadata.zip to c:\\Movie Project\n",
      "\n"
     ]
    },
    {
     "name": "stderr",
     "output_type": "stream",
     "text": [
      "\n",
      "  0%|          | 0.00/8.89M [00:00<?, ?B/s]\n",
      "100%|██████████| 8.89M/8.89M [00:00<00:00, 462MB/s]\n"
     ]
    }
   ],
   "source": [
    "!kaggle datasets download tmdb/tmdb-movie-metadata"
   ]
  },
  {
   "cell_type": "markdown",
   "id": "fb649fc0",
   "metadata": {},
   "source": [
    " Unzip the file to access contents and list files"
   ]
  },
  {
   "cell_type": "code",
   "execution_count": 10,
   "id": "5d01ab4c",
   "metadata": {},
   "outputs": [
    {
     "data": {
      "text/plain": [
       "['tmdb_5000_credits.csv', 'tmdb_5000_movies.csv']"
      ]
     },
     "execution_count": 10,
     "metadata": {},
     "output_type": "execute_result"
    }
   ],
   "source": [
    "import zipfile\n",
    "import os\n",
    "\n",
    "with zipfile.ZipFile(\"tmdb-movie-metadata.zip\", \"r\") as zip_ref:\n",
    "    zip_ref.extractall(\"tmdb_movie_data\")\n",
    "\n",
    "os.listdir(\"tmdb_movie_data\")"
   ]
  },
  {
   "cell_type": "markdown",
   "id": "93733253",
   "metadata": {},
   "source": [
    "Read CSV files into pandas dataframe"
   ]
  },
  {
   "cell_type": "code",
   "execution_count": null,
   "id": "9002dc99",
   "metadata": {},
   "outputs": [],
   "source": []
  }
 ],
 "metadata": {
  "kernelspec": {
   "display_name": ".venv",
   "language": "python",
   "name": "python3"
  },
  "language_info": {
   "codemirror_mode": {
    "name": "ipython",
    "version": 3
   },
   "file_extension": ".py",
   "mimetype": "text/x-python",
   "name": "python",
   "nbconvert_exporter": "python",
   "pygments_lexer": "ipython3",
   "version": "3.12.1"
  }
 },
 "nbformat": 4,
 "nbformat_minor": 5
}
